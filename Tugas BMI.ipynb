{
 "cells": [
  {
   "cell_type": "code",
   "execution_count": null,
   "metadata": {},
   "outputs": [],
   "source": [
    "# kode untuk menghitung BMI\n",
    "\n",
    "weight = float(input(\"Input your weight in Kg: \"))\n",
    "height = float(input(\"Input your height in cm: \"))\n",
    "\n",
    "BMI = weight / ((height/100)**2)\n",
    "\n",
    "\n",
    "if BMI < 15:\n",
    "    print(\"Your Category is Very severely underweight\")\n",
    "elif BMI >=15 and BMI <16 :\n",
    "    print(\"Your Category is Severely underweight\")\n",
    "elif BMI >=16 and BMI <18.5 :\n",
    "    print(\"Your Category is Underweight\")\n",
    "elif BMI >=18.5 and BMI <25 :\n",
    "    print(\"Your Category is Normal (healthy weight)\")\n",
    "elif BMI >=25 and BMI <30 :\n",
    "    print(\"Your Category is Overweight\")\n",
    "elif BMI >=30 and BMI <35 :\n",
    "    print(\"Your Category is Moderately obese\")\n",
    "elif BMI >=35 and BMI <=40 :\n",
    "    print(\"Your Category is Severely obese\")\n",
    "else :\n",
    "    print(\"Your Category is Very Severely obese\")\n",
    "\n",
    "    \n",
    "    \n",
    "print(\"Program Selesai\")"
   ]
  }
 ],
 "metadata": {
  "kernelspec": {
   "display_name": "Python 3",
   "language": "python",
   "name": "python3"
  },
  "language_info": {
   "codemirror_mode": {
    "name": "ipython",
    "version": 3
   },
   "file_extension": ".py",
   "mimetype": "text/x-python",
   "name": "python",
   "nbconvert_exporter": "python",
   "pygments_lexer": "ipython3",
   "version": "3.7.0"
  }
 },
 "nbformat": 4,
 "nbformat_minor": 2
}
