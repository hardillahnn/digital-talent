{
 "cells": [
  {
   "cell_type": "markdown",
   "metadata": {},
   "source": [
    "# LATIHAN 2 - Tugas List Nilai\n",
    "Diberikan sekumpulan Nilai Random antara 0 sampai dengan 100 sebanyak 250 nilai. Buatlah program untuk melakukan hal berikut:\n",
    "Tampilkan Angka Ganjil dari ke 250 nilai tersebut\n",
    "Tampilkan berapa banyak yang mendapatkan nilai lebih dari 70\n",
    "Tampilkan standar deviasi dari sekumpulan nilai tersebut\n",
    "Tampilkan nilai maksimum dan minimum\n",
    "Tampilkan modus dari sekumpulan nilai tersebut"
   ]
  },
  {
   "cell_type": "code",
   "execution_count": 10,
   "metadata": {},
   "outputs": [
    {
     "name": "stdout",
     "output_type": "stream",
     "text": [
      "[96, 61, 68, 75, 74, 14, 84, 93, 59, 87, 90, 67, 22, 66, 97, 39, 44, 6, 90, 96, 42, 32, 71, 85, 11, 27, 83, 8, 89, 2, 21, 11, 84, 86, 54, 68, 77, 57, 32, 76, 32, 69, 72, 50, 4, 3, 85, 92, 64, 69, 43, 45, 87, 24, 7, 68, 84, 59, 29, 86, 3, 76, 92, 11, 70, 53, 89, 28, 30, 65, 86, 40, 87, 81, 32, 50, 70, 11, 86, 55, 60, 58, 58, 68, 19, 57, 2, 38, 41, 70, 49, 63, 93, 92, 52, 67, 13, 9, 79, 2, 53, 23, 92, 13, 45, 50, 66, 64, 38, 65, 19, 20, 6, 92, 84, 41, 41, 81, 27, 84, 56, 55, 24, 33, 5, 87, 74, 80, 83, 57, 15, 84, 49, 38, 81, 17, 52, 67, 52, 42, 70, 84, 93, 36, 65, 62, 97, 39, 14, 66, 19, 79, 70, 85, 54, 37, 6, 14, 85, 68, 86, 68, 52, 94, 84, 89, 78, 13, 96, 60, 87, 10, 53, 32, 63, 73, 93, 59, 37, 79, 18, 60, 47, 50, 76, 36, 76, 84, 64, 2, 94, 77, 57, 76, 69, 58, 92, 55, 66, 55, 46, 95, 15, 96, 8, 8, 38, 41, 32, 34, 53, 76, 99, 13, 96, 32, 44, 42, 90, 68, 99, 27, 18, 2, 7, 66, 48, 81, 32, 7, 41, 8, 66, 35, 64, 18, 22, 5, 21, 43, 47, 42, 25, 34, 44, 40, 73, 78, 85, 97]\n"
     ]
    }
   ],
   "source": [
    "import random\n",
    "\n",
    "# GENERATE RANDOM\n",
    "nilaiTugas = []\n",
    "for i in range(250):\n",
    "    nilaiTugas.append(random.randrange(1,100,1))\n",
    "\n",
    "print(nilaiTugas)\n"
   ]
  },
  {
   "cell_type": "code",
   "execution_count": 11,
   "metadata": {},
   "outputs": [
    {
     "name": "stdout",
     "output_type": "stream",
     "text": [
      "61\n",
      "75\n",
      "93\n",
      "59\n",
      "87\n",
      "67\n",
      "97\n",
      "39\n",
      "71\n",
      "85\n",
      "11\n",
      "27\n",
      "83\n",
      "89\n",
      "21\n",
      "11\n",
      "77\n",
      "57\n",
      "69\n",
      "3\n",
      "85\n",
      "69\n",
      "43\n",
      "45\n",
      "87\n",
      "7\n",
      "59\n",
      "29\n",
      "3\n",
      "11\n",
      "53\n",
      "89\n",
      "65\n",
      "87\n",
      "81\n",
      "11\n",
      "55\n",
      "19\n",
      "57\n",
      "41\n",
      "49\n",
      "63\n",
      "93\n",
      "67\n",
      "13\n",
      "9\n",
      "79\n",
      "53\n",
      "23\n",
      "13\n",
      "45\n",
      "65\n",
      "19\n",
      "41\n",
      "41\n",
      "81\n",
      "27\n",
      "55\n",
      "33\n",
      "5\n",
      "87\n",
      "83\n",
      "57\n",
      "15\n",
      "49\n",
      "81\n",
      "17\n",
      "67\n",
      "93\n",
      "65\n",
      "97\n",
      "39\n",
      "19\n",
      "79\n",
      "85\n",
      "37\n",
      "85\n",
      "89\n",
      "13\n",
      "87\n",
      "53\n",
      "63\n",
      "73\n",
      "93\n",
      "59\n",
      "37\n",
      "79\n",
      "47\n",
      "77\n",
      "57\n",
      "69\n",
      "55\n",
      "55\n",
      "95\n",
      "15\n",
      "41\n",
      "53\n",
      "99\n",
      "13\n",
      "99\n",
      "27\n",
      "7\n",
      "81\n",
      "7\n",
      "41\n",
      "35\n",
      "5\n",
      "21\n",
      "43\n",
      "47\n",
      "25\n",
      "73\n",
      "85\n",
      "97\n"
     ]
    }
   ],
   "source": [
    "#Tampilkan angka ganjil\n",
    "for n in nilaiTugas:\n",
    "    if n%2==1:\n",
    "        print(n)"
   ]
  },
  {
   "cell_type": "code",
   "execution_count": 12,
   "metadata": {
    "scrolled": true
   },
   "outputs": [
    {
     "name": "stdout",
     "output_type": "stream",
     "text": [
      "96\n",
      "75\n",
      "74\n",
      "84\n",
      "93\n",
      "87\n",
      "90\n",
      "97\n",
      "90\n",
      "96\n",
      "71\n",
      "85\n",
      "83\n",
      "89\n",
      "84\n",
      "86\n",
      "77\n",
      "76\n",
      "72\n",
      "85\n",
      "92\n",
      "87\n",
      "84\n",
      "86\n",
      "76\n",
      "92\n",
      "89\n",
      "86\n",
      "87\n",
      "81\n",
      "86\n",
      "93\n",
      "92\n",
      "79\n",
      "92\n",
      "92\n",
      "84\n",
      "81\n",
      "84\n",
      "87\n",
      "74\n",
      "80\n",
      "83\n",
      "84\n",
      "81\n",
      "84\n",
      "93\n",
      "97\n",
      "79\n",
      "85\n",
      "85\n",
      "86\n",
      "94\n",
      "84\n",
      "89\n",
      "78\n",
      "96\n",
      "87\n",
      "73\n",
      "93\n",
      "79\n",
      "76\n",
      "76\n",
      "84\n",
      "94\n",
      "77\n",
      "76\n",
      "92\n",
      "95\n",
      "96\n",
      "76\n",
      "99\n",
      "96\n",
      "90\n",
      "99\n",
      "81\n",
      "73\n",
      "78\n",
      "85\n",
      "97\n",
      "Banyaknya nilai lebih dari 70 adalah 80\n"
     ]
    }
   ],
   "source": [
    "#Tampilkan berapa banyak yang mendapatkan nilai lebih dari 70\n",
    "counter=0\n",
    "for i in nilaiTugas:\n",
    "    if i>70:\n",
    "        print(i)\n",
    "        counter +=1\n",
    "       \n",
    "print(\"Banyaknya nilai lebih dari 70 adalah\",counter)"
   ]
  },
  {
   "cell_type": "code",
   "execution_count": 13,
   "metadata": {},
   "outputs": [
    {
     "name": "stdout",
     "output_type": "stream",
     "text": [
      "rata-rata nilai tugas adalah 97.0\n",
      "jumlah pangkat dua dari data ke-i dikurang rata-rata adalah 655864.0\n",
      "Jadi standar deviasinya adalah 51.32243142984835\n"
     ]
    }
   ],
   "source": [
    "#Tampilkan standar deviasi dari sekumpulan nilai tersebut\n",
    "total = 0\n",
    "for a in nilaiTugas:\n",
    "    total = total + float(n)\n",
    "    \n",
    "rata = total / len(nilaiTugas)\n",
    "print(\"rata-rata nilai tugas adalah\",rata)\n",
    "\n",
    "jumlah=0\n",
    "for b in nilaiTugas:\n",
    "     a = (b-rata)**2\n",
    "     jumlah +=a\n",
    "print(\"jumlah pangkat dua dari data ke-i dikurang rata-rata adalah\",jumlah)\n",
    "\n",
    "standar_deviasi = (jumlah/(len(nilaiTugas)-1))**0.5\n",
    "print(\"Jadi standar deviasinya adalah\",standar_deviasi)"
   ]
  },
  {
   "cell_type": "code",
   "execution_count": 14,
   "metadata": {},
   "outputs": [
    {
     "name": "stdout",
     "output_type": "stream",
     "text": [
      "nilai maksimum adalah 99\n",
      "nilai minimum adalah 2\n"
     ]
    }
   ],
   "source": [
    "#Tampilkan nilai maksimum dan minimum\n",
    "\n",
    "maks=0\n",
    "for c in nilaiTugas:\n",
    "    if c>maks: \n",
    "        maks=c\n",
    "           \n",
    "print(\"nilai maksimum adalah\",maks)   \n",
    "\n",
    "minimum=maks\n",
    "for x in nilaiTugas:\n",
    "    if x < minimum:\n",
    "        minimum =x\n",
    "           \n",
    "print(\"nilai minimum adalah\",minimum) "
   ]
  },
  {
   "cell_type": "code",
   "execution_count": 31,
   "metadata": {},
   "outputs": [
    {
     "name": "stdout",
     "output_type": "stream",
     "text": [
      "Modus dari data tersebut adalah 9 \n",
      "dengan modus yaitu [84]\n"
     ]
    }
   ],
   "source": [
    "#Tampilkan modus dari sekumpulan nilai tersebut\n",
    "\n",
    "nilai = set(nilaiTugas)\n",
    "list_nilai = list(nilai)\n",
    "\n",
    "maks_jumlahdata = 0\n",
    "modus = []\n",
    "dNilai = {}\n",
    "for k in list_nilai:\n",
    "    n_jumlahdata = nilaiTugas.count(k)\n",
    "    dNilai[k] = n_jumlahdata\n",
    "    if n_jumlahdata>maks_jumlahdata:\n",
    "        maks_jumlahdata = n_jumlahdata\n",
    "\n",
    "for k,v in dNilai.items():\n",
    "    if v == maks_jumlahdata:\n",
    "        modus.append(k)\n",
    "        \n",
    "print('Modus dari data tersebut adalah',maks_jumlahdata, '\\ndengan modus yaitu',modus)\n",
    "\n",
    "    "
   ]
  },
  {
   "cell_type": "code",
   "execution_count": null,
   "metadata": {},
   "outputs": [],
   "source": []
  },
  {
   "cell_type": "code",
   "execution_count": null,
   "metadata": {},
   "outputs": [],
   "source": []
  }
 ],
 "metadata": {
  "kernelspec": {
   "display_name": "Python 3",
   "language": "python",
   "name": "python3"
  },
  "language_info": {
   "codemirror_mode": {
    "name": "ipython",
    "version": 3
   },
   "file_extension": ".py",
   "mimetype": "text/x-python",
   "name": "python",
   "nbconvert_exporter": "python",
   "pygments_lexer": "ipython3",
   "version": "3.7.0"
  }
 },
 "nbformat": 4,
 "nbformat_minor": 2
}
